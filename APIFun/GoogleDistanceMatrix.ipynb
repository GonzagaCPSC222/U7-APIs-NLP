{
 "cells": [
  {
   "cell_type": "markdown",
   "metadata": {},
   "source": [
    "# Get Distance and Duration Between Two Addresses\n",
    "* Use Google Maps Distance Matrix API: https://developers.google.com/maps/documentation/distance-matrix/start\n",
    "* Great example of API key in url query params\n",
    "* Note: to make an API key for this API requires a billing account (hence why we did the free (no billing account required) MapQuest demo instead)"
   ]
  },
  {
   "cell_type": "code",
   "execution_count": 1,
   "metadata": {},
   "outputs": [
    {
     "name": "stdout",
     "output_type": "stream",
     "text": [
      "{'destination_addresses': ['Seattle, WA, USA'], 'origin_addresses': ['Spokane, WA, USA'], 'rows': [{'elements': [{'distance': {'text': '279 mi', 'value': 448518}, 'duration': {'text': '4 hours 13 mins', 'value': 15185}, 'status': 'OK'}]}], 'status': 'OK'}\n",
      "279 mi from Spokane to Seattle\n",
      "4 hours 13 mins from Spokane to Seattle\n"
     ]
    }
   ],
   "source": [
    "import requests\n",
    "import json\n",
    "\n",
    "API_KEY = \"YOUR API KEY HERE\"\n",
    "\n",
    "url = \"https://maps.googleapis.com/maps/api/distancematrix/json?\"\n",
    "url += \"key=\" + API_KEY\n",
    "# note: if value has special characters like , in it, use requests.utils.quote() to encode\n",
    "url += \"&origins=Spokane\"\n",
    "url += \"&destinations=Seattle\"\n",
    "url += \"&units=imperial\"\n",
    "#print(url)\n",
    "    \n",
    "response = requests.get(url=url)\n",
    "json_object = json.loads(response.text)\n",
    "print(json_object)\n",
    "\n",
    "rows_array = json_object[\"rows\"]\n",
    "first_row_object = rows_array[0]\n",
    "elements_object = first_row_object[\"elements\"]\n",
    "\n",
    "first_element_object = elements_object[0]\n",
    "distance_object = first_element_object[\"distance\"]\n",
    "miles_str = distance_object[\"text\"]\n",
    "print(miles_str, \"from Spokane to Seattle\")\n",
    "\n",
    "# task: get duration text\n",
    "duration_object = first_element_object[\"duration\"]\n",
    "duration_str = duration_object[\"text\"]\n",
    "print(duration_str, \"from Spokane to Seattle\")"
   ]
  },
  {
   "cell_type": "code",
   "execution_count": null,
   "metadata": {},
   "outputs": [],
   "source": []
  }
 ],
 "metadata": {
  "kernelspec": {
   "display_name": "Python 3",
   "language": "python",
   "name": "python3"
  },
  "language_info": {
   "codemirror_mode": {
    "name": "ipython",
    "version": 3
   },
   "file_extension": ".py",
   "mimetype": "text/x-python",
   "name": "python",
   "nbconvert_exporter": "python",
   "pygments_lexer": "ipython3",
   "version": "3.7.4"
  }
 },
 "nbformat": 4,
 "nbformat_minor": 4
}
