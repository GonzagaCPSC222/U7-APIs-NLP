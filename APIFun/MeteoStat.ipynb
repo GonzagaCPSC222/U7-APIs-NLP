{
 "cells": [
  {
   "cell_type": "markdown",
   "metadata": {},
   "source": [
    "# Get Daily Historical Weather Data \n",
    "* Use MeteoStat API: https://dev.meteostat.net/\n",
    "* Great example of API key in request headers, not in url query params"
   ]
  },
  {
   "cell_type": "code",
   "execution_count": 11,
   "metadata": {},
   "outputs": [
    {
     "name": "stdout",
     "output_type": "stream",
     "text": [
      "spokane station id: 72785\n"
     ]
    },
    {
     "data": {
      "image/png": "[encoded data removed]",
      "text/plain": [
       "<Figure size 432x288 with 1 Axes>"
      ]
     },
     "metadata": {
      "needs_background": "light"
     },
     "output_type": "display_data"
    }
   ],
   "source": [
    "import requests\n",
    "import json\n",
    "import pandas as pd\n",
    "import matplotlib.pyplot as plt\n",
    "\n",
    "api_key = \"YOUR API KEY HERE\"\n",
    "\n",
    "# meteostat API requires your API key be in the request headers, not in the url query params\n",
    "headers = {\"x-api-key\": api_key}\n",
    "\n",
    "# step #1: need to find the weather station id for spokane first\n",
    "# https://dev.meteostat.net/api/stations/search.html#endpoint\n",
    "url = \"https://api.meteostat.net/v2/stations/search\"\n",
    "# add query params\n",
    "url += \"?query=spokane\"\n",
    "\n",
    "response = requests.get(url=url, headers=headers)\n",
    "json_object = json.loads(response.text)\n",
    "data_object = json_object[\"data\"][0]\n",
    "#print(data_object)\n",
    "spokane_id = data_object[\"id\"]\n",
    "print(\"spokane station id:\", spokane_id)\n",
    "\n",
    "# step #2: use spokane weather station id to get daily weather day for all of 2020 (so far)\n",
    "# https://dev.meteostat.net/api/stations/daily.html#endpoint\n",
    "url = \"https://api.meteostat.net/v2/stations/daily\"\n",
    "# add query params\n",
    "url += \"?station=\" + spokane_id\n",
    "url += \"&start=2020-01-01\" # format: YYYY-MM-DD\n",
    "url += \"&end=2020-12-06\" # format: YYYY-MM-DD\n",
    "\n",
    "response = requests.get(url=url, headers=headers)\n",
    "json_object = json.loads(response.text)\n",
    "#print(json_object)\n",
    "\n",
    "# task: produce a plot of the 2020 max temperatures\n",
    "data_object = json_object[\"data\"]\n",
    "tmax_ser = pd.Series(dtype=float)\n",
    "for date_object in data_object:\n",
    "    date = date_object[\"date\"]\n",
    "    tmax = date_object[\"tmax\"] * (9 / 5) + 32 # convert C to F\n",
    "    tmax_ser[date] = tmax\n",
    "    \n",
    "# print(tmax_ser)\n",
    "plt.bar(tmax_ser.index, tmax_ser)\n",
    "# task for later... make this plot better\n",
    "# downsample your xticks and rotate them\n",
    "# title, axis labels, etc.\n",
    "# aggregate by month\n",
    "plt.show()"
   ]
  },
  {
   "cell_type": "code",
   "execution_count": null,
   "metadata": {},
   "outputs": [],
   "source": []
  }
 ],
 "metadata": {
  "kernelspec": {
   "display_name": "Python 3",
   "language": "python",
   "name": "python3"
  },
  "language_info": {
   "codemirror_mode": {
    "name": "ipython",
    "version": 3
   },
   "file_extension": ".py",
   "mimetype": "text/x-python",
   "name": "python",
   "nbconvert_exporter": "python",
   "pygments_lexer": "ipython3",
   "version": "3.7.4"
  }
 },
 "nbformat": 4,
 "nbformat_minor": 4
}
