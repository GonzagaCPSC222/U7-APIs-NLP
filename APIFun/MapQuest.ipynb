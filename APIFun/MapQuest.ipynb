{
 "cells": [
  {
   "cell_type": "markdown",
   "metadata": {},
   "source": [
    "# Get Distance and Duration Between Two Addresses\n",
    "* Use Mapquest API: https://developer.mapquest.com/documentation/\n",
    "* Great example of API key in url query params"
   ]
  },
  {
   "cell_type": "code",
   "execution_count": 2,
   "metadata": {},
   "outputs": [
    {
     "name": "stdout",
     "output_type": "stream",
     "text": [
      "distance: 279.134 miles\n",
      "duration: 04:06:49\n"
     ]
    }
   ],
   "source": [
    "import requests # part of Anaconda distribution\n",
    "import json # python standard library\n",
    "\n",
    "# following https://developer.mapquest.com/documentation/directions-api/route/get/\n",
    "api_key = \"YOUR API KEY HERE\"\n",
    "\n",
    "# base endpoint url\n",
    "url = \"http://www.mapquestapi.com/directions/v2/route\"\n",
    "# add query parameters\n",
    "url += \"?key=\" + api_key\n",
    "url += \"&from=spokane\" # use requests.utils.quote() for special characters\n",
    "url += \"&to=seattle\"\n",
    "\n",
    "#print(url)\n",
    "\n",
    "# make the request to mapquestapi.com\n",
    "response = requests.get(url=url)\n",
    "#print(response.text)\n",
    "json_object = json.loads(response.text)\n",
    "\n",
    "route_object = json_object[\"route\"]\n",
    "#print(route_object)\n",
    "distance = route_object[\"distance\"]\n",
    "print(\"distance:\", distance, \"miles\")\n",
    "# task: is get the formatted time (how long to drive from spokane to seattle)\n",
    "duration = route_object[\"formattedTime\"]\n",
    "print(\"duration:\", duration)"
   ]
  },
  {
   "cell_type": "code",
   "execution_count": null,
   "metadata": {},
   "outputs": [],
   "source": []
  }
 ],
 "metadata": {
  "kernelspec": {
   "display_name": "Python 3",
   "language": "python",
   "name": "python3"
  },
  "language_info": {
   "codemirror_mode": {
    "name": "ipython",
    "version": 3
   },
   "file_extension": ".py",
   "mimetype": "text/x-python",
   "name": "python",
   "nbconvert_exporter": "python",
   "pygments_lexer": "ipython3",
   "version": "3.7.4"
  }
 },
 "nbformat": 4,
 "nbformat_minor": 4
}
