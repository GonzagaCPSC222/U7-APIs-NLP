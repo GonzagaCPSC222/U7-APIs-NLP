{
 "cells": [
  {
   "cell_type": "markdown",
   "metadata": {},
   "source": [
    "## Get Genre for Searched Artist Name\n",
    "* Get access token: https://developer.spotify.com/documentation/general/guides/authorization-guide/#client-credentials-flow\n",
    "* Search for artist: https://developer.spotify.com/documentation/web-api/reference/search/search/"
   ]
  },
  {
   "cell_type": "code",
   "execution_count": 1,
   "metadata": {},
   "outputs": [
    {
     "name": "stdout",
     "output_type": "stream",
     "text": [
      "https://api.spotify.com/v1/search?q=taylor%20swift&type=artist\n",
      "taylor swift's genres: ['dance pop', 'pop', 'pop dance', 'post-teen pop']\n"
     ]
    }
   ],
   "source": [
    "import requests\n",
    "import json \n",
    "import base64\n",
    "\n",
    "# TODO: move these into a file/environment variable external to the code\n",
    "client_ID = \"YOUR CLIENT ID HERE\"\n",
    "client_secret = \"YOUR CLIENT SECRET HERE\"\n",
    "\n",
    "auth_endpoint = \"https://accounts.spotify.com/api/token\"\n",
    "search_API_endpoint = \"https://api.spotify.com/v1/search\"\n",
    "\n",
    "# get access token to use for authentication with search api\n",
    "def get_access_token():\n",
    "    # from Spotify docs:\n",
    "    # Required: Base 64 encoded string that contains the client ID and client secret key. \n",
    "    # The field must have the format: \n",
    "    # Authorization: Basic *<base64 encoded client_id:client_secret>*\n",
    "    message = client_ID + \":\" + client_secret\n",
    "    message_bytes = message.encode(\"ascii\")\n",
    "    base64_bytes = base64.b64encode(message_bytes)\n",
    "    encoded_client_details = base64_bytes.decode(\"ascii\")\n",
    "    \n",
    "    headers = {\"Authorization\": \"Basic \" + encoded_client_details}              \n",
    "    body = {\"grant_type\": \"client_credentials\"}\n",
    "    response = requests.post(url=auth_endpoint, headers=headers, data=body)\n",
    "    json_object = json.loads(response.text)\n",
    "    return json_object[\"access_token\"]\n",
    "    \n",
    "# make the request using requests module\n",
    "# need to send the access token via request headers\n",
    "def make_request(access_token, full_url):\n",
    "    headers = {\"Accept\": \"application/json\", \n",
    "               \"Content-Type\": \"application/json\", \n",
    "               \"Authorization\": \"Bearer \" + access_token}\n",
    "\n",
    "    response = requests.get(url=full_url, headers=headers)\n",
    "    json_object = json.loads(response.text)\n",
    "\n",
    "    return json_object\n",
    "\n",
    "# create request url, make request, return JSON response\n",
    "def search_request(access_token, search_term, search_type):\n",
    "    search_term = requests.utils.quote(search_term)\n",
    "    search_type = requests.utils.quote(search_type)\n",
    "    url = search_API_endpoint + \"?q=\" + search_term\n",
    "    url += \"&type=\" + search_type\n",
    "    print(url)\n",
    "    json_obj = make_request(access_token, url)\n",
    "    return json_obj\n",
    "\n",
    "# parse list of genres from JSON response\n",
    "def get_genres(json_obj):\n",
    "    artists = json_obj[\"artists\"]\n",
    "    items = artists[\"items\"]\n",
    "    first_artist_item = items[0] # TODO: are they sorted by match confidence/popularity?\n",
    "    genres = first_artist_item[\"genres\"]\n",
    "    return genres\n",
    "\n",
    "# fire 'er off!!\n",
    "def main():\n",
    "    access_token = get_access_token()\n",
    "    # choosing taylor swift as a test artist to get her genres back\n",
    "    json_obj = search_request(access_token, \"taylor swift\", \"artist\")\n",
    "    genres = get_genres(json_obj)\n",
    "    print(\"taylor swift's genres:\", genres)\n",
    "\n",
    "main()"
   ]
  }
 ],
 "metadata": {
  "kernelspec": {
   "display_name": "Python 3",
   "language": "python",
   "name": "python3"
  },
  "language_info": {
   "codemirror_mode": {
    "name": "ipython",
    "version": 3
   },
   "file_extension": ".py",
   "mimetype": "text/x-python",
   "name": "python",
   "nbconvert_exporter": "python",
   "pygments_lexer": "ipython3",
   "version": "3.7.4"
  }
 },
 "nbformat": 4,
 "nbformat_minor": 4
}
