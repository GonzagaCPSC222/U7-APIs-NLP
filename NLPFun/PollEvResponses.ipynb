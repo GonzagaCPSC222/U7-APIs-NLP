{
 "cells": [
  {
   "cell_type": "markdown",
   "metadata": {},
   "source": [
    "## Sentiment Analysis for Poll Everywhere Responses\n",
    "* Question was: \"What is the first thing someone is going to do once the pandemic is over?\"\n",
    "* Responses came from 222 students on 12/9"
   ]
  },
  {
   "cell_type": "code",
   "execution_count": 1,
   "metadata": {},
   "outputs": [
    {
     "name": "stdout",
     "output_type": "stream",
     "text": [
      "drop wlr\n",
      "Sentiment(polarity=0.0, subjectivity=0.0)\n",
      "\n",
      "Sleep\n",
      "Sentiment(polarity=0.0, subjectivity=0.0)\n",
      "\n",
      "watch luka doncic in person\n",
      "Sentiment(polarity=0.0, subjectivity=0.0)\n",
      "\n",
      "be gamer\n",
      "Sentiment(polarity=0.0, subjectivity=0.0)\n",
      "\n",
      "See family\n",
      "Sentiment(polarity=0.0, subjectivity=0.0)\n",
      "\n",
      "D&D all nighter in person\n",
      "Sentiment(polarity=0.0, subjectivity=0.0)\n",
      "\n",
      "eat a hot dog\n",
      "Sentiment(polarity=0.25, subjectivity=0.8500000000000001)\n",
      "\n",
      "go to a rager\n",
      "Sentiment(polarity=0.0, subjectivity=0.0)\n",
      "\n",
      "Travel to Japan!\n",
      "Sentiment(polarity=0.0, subjectivity=0.0)\n",
      "\n",
      "Probably hang out with friends, play ultimate, go camping maybe.\n",
      "Sentiment(polarity=0.0, subjectivity=1.0)\n",
      "\n",
      "Either celebrating my friend's 18th birthday or going to Canada with my father.\n",
      "Sentiment(polarity=0.0, subjectivity=0.0)\n",
      "\n",
      "go to a movie theatre\n",
      "Sentiment(polarity=0.0, subjectivity=0.0)\n",
      "\n",
      "Play indoor pick up basketball\n",
      "Sentiment(polarity=0.0, subjectivity=0.0)\n",
      "\n",
      "go and see my old family people\n",
      "Sentiment(polarity=0.1, subjectivity=0.2)\n",
      "\n",
      "Travel\n",
      "Sentiment(polarity=0.0, subjectivity=0.0)\n",
      "\n",
      "go to a concert!\n",
      "Sentiment(polarity=0.0, subjectivity=0.0)\n",
      "\n",
      "I will most likely go to a blazers game because I miss sports.\n",
      "Sentiment(polarity=0.033333333333333326, subjectivity=0.6333333333333333)\n",
      "\n",
      "hug my friends!\n",
      "Sentiment(polarity=0.0, subjectivity=0.0)\n",
      "\n",
      "travel\n",
      "Sentiment(polarity=0.0, subjectivity=0.0)\n",
      "\n",
      "Go to Disneyland!\n",
      "Sentiment(polarity=0.0, subjectivity=0.0)\n",
      "\n",
      "concert\n",
      "Sentiment(polarity=0.0, subjectivity=0.0)\n",
      "\n",
      "hit the club\n",
      "Sentiment(polarity=0.0, subjectivity=0.0)\n",
      "\n",
      "Travel and spend time with friends that I didn't see while trying to keep distance\n",
      "Sentiment(polarity=0.0, subjectivity=0.0)\n",
      "\n",
      "Largest country/ redneck party ever\n",
      "Sentiment(polarity=0.0, subjectivity=0.0)\n",
      "\n",
      "visit grandparents\n",
      "Sentiment(polarity=0.0, subjectivity=0.0)\n",
      "\n",
      "Travel\n",
      "Sentiment(polarity=0.0, subjectivity=0.0)\n",
      "\n"
     ]
    }
   ],
   "source": [
    "import pandas as pd\n",
    "from textblob import TextBlob\n",
    "\n",
    "df = pd.read_csv(\"pollev_pandemic_responses.csv\", header=None)\n",
    "for response in df.iloc[:, 0]:\n",
    "    print(response)\n",
    "    print(TextBlob(response).sentiment)\n",
    "    print()"
   ]
  }
 ],
 "metadata": {
  "kernelspec": {
   "display_name": "Python 3",
   "language": "python",
   "name": "python3"
  },
  "language_info": {
   "codemirror_mode": {
    "name": "ipython",
    "version": 3
   },
   "file_extension": ".py",
   "mimetype": "text/x-python",
   "name": "python",
   "nbconvert_exporter": "python",
   "pygments_lexer": "ipython3",
   "version": "3.7.4"
  }
 },
 "nbformat": 4,
 "nbformat_minor": 4
}
