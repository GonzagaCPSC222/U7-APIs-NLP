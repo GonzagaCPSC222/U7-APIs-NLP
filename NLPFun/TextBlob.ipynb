{
 "cells": [
  {
   "cell_type": "code",
   "execution_count": 1,
   "metadata": {},
   "outputs": [
    {
     "name": "stdout",
     "output_type": "stream",
     "text": [
      "[Sentence(\"Have a great rest of your Monday!\"), Sentence(\"!\")]\n",
      "['Have', 'a', 'great', 'rest', 'of', 'your', 'Monday']\n"
     ]
    }
   ],
   "source": [
    "from textblob import TextBlob\n",
    "\n",
    "text = \"Have a great rest of your Monday!!\"\n",
    "blob = TextBlob(text)\n",
    "print(blob.sentences)\n",
    "print(blob.words)\n",
    "\n"
   ]
  },
  {
   "cell_type": "markdown",
   "metadata": {},
   "source": [
    "## Natural Language Processing\n",
    "* NLP is the the processing of a text collection\n",
    "    * Text collection: a corpus (corpora for plural)\n",
    "    * Examples\n",
    "        * Your responses to my poll question\n",
    "        * Tweets\n",
    "        * Facebook posts\n",
    "        * Messaging conversations\n",
    "        * The classics\n",
    "        * Etc.\n",
    "* NLP is notoriously difficulty because natural language lacks mathematical precision\n",
    "* Thankfully, there are alot of really great Python libraries for NLP!!!\n",
    "    * Let's start with TextBlob"
   ]
  },
  {
   "cell_type": "code",
   "execution_count": 2,
   "metadata": {},
   "outputs": [],
   "source": [
    "from textblob import TextBlob\n",
    "\n",
    "text = \"\"\"\n",
    "The academic heart of Gonzaga's liberal arts tradition lies in its University Core Curriculum, which integrates philosophy, theology, mathematics, literature, writing and speaking. A common thread throughout all of these disciplines is the value of the written word; students at Gonzaga carry out extensive writing projects throughout all their courses of study.\n",
    "\n",
    "Gonzaga offers 75 undergraduate majors and programs, 26 master’s degrees, a Ph.D. in Leadership Studies, a Doctor of Nursing Practice degree, and a Juris Doctor through the School of Law. Explore these academic opportunities through the course catalog. Additionally, undergraduates may participate in several distinctive academic programs. The average undergraduate class size is 22 and the student-to-faculty ratio is 12:1. Gonzaga also offers study abroad programs in over 60 countries, including our longest-running program, Gonzaga-in-Florence, Italy.\n",
    "\"\"\"\n",
    "\n",
    "blob = TextBlob(text)"
   ]
  },
  {
   "cell_type": "code",
   "execution_count": 3,
   "metadata": {},
   "outputs": [
    {
     "name": "stdout",
     "output_type": "stream",
     "text": [
      "[('The', 'DT'), ('academic', 'JJ'), ('heart', 'NN'), ('of', 'IN'), ('Gonzaga', 'NNP'), (\"'s\", 'POS'), ('liberal', 'JJ'), ('arts', 'NNS'), ('tradition', 'NN'), ('lies', 'VBZ'), ('in', 'IN'), ('its', 'PRP$'), ('University', 'NNP'), ('Core', 'NNP'), ('Curriculum', 'NNP'), ('which', 'WDT'), ('integrates', 'VBZ'), ('philosophy', 'NN'), ('theology', 'NN'), ('mathematics', 'NNS'), ('literature', 'NN'), ('writing', 'VBG'), ('and', 'CC'), ('speaking', 'NN'), ('A', 'DT'), ('common', 'JJ'), ('thread', 'NN'), ('throughout', 'IN'), ('all', 'DT'), ('of', 'IN'), ('these', 'DT'), ('disciplines', 'NNS'), ('is', 'VBZ'), ('the', 'DT'), ('value', 'NN'), ('of', 'IN'), ('the', 'DT'), ('written', 'VBN'), ('word', 'NN'), ('students', 'NNS'), ('at', 'IN'), ('Gonzaga', 'NNP'), ('carry', 'VBP'), ('out', 'RP'), ('extensive', 'JJ'), ('writing', 'NN'), ('projects', 'NNS'), ('throughout', 'IN'), ('all', 'DT'), ('their', 'PRP$'), ('courses', 'NNS'), ('of', 'IN'), ('study', 'NN'), ('Gonzaga', 'NNP'), ('offers', 'VBZ'), ('75', 'CD'), ('undergraduate', 'NN'), ('majors', 'NNS'), ('and', 'CC'), ('programs', 'NNS'), ('26', 'CD'), ('master', 'NN'), ('’', 'NN'), ('s', 'NN'), ('degrees', 'NNS'), ('a', 'DT'), ('Ph.D.', 'NNP'), ('in', 'IN'), ('Leadership', 'NNP'), ('Studies', 'NNP'), ('a', 'DT'), ('Doctor', 'NNP'), ('of', 'IN'), ('Nursing', 'NNP'), ('Practice', 'NNP'), ('degree', 'NN'), ('and', 'CC'), ('a', 'DT'), ('Juris', 'NNP'), ('Doctor', 'NNP'), ('through', 'IN'), ('the', 'DT'), ('School', 'NNP'), ('of', 'IN'), ('Law', 'NNP'), ('Explore', 'IN'), ('these', 'DT'), ('academic', 'JJ'), ('opportunities', 'NNS'), ('through', 'IN'), ('the', 'DT'), ('course', 'NN'), ('catalog', 'NN'), ('Additionally', 'RB'), ('undergraduates', 'NNS'), ('may', 'MD'), ('participate', 'VB'), ('in', 'IN'), ('several', 'JJ'), ('distinctive', 'JJ'), ('academic', 'JJ'), ('programs', 'NNS'), ('The', 'DT'), ('average', 'JJ'), ('undergraduate', 'JJ'), ('class', 'NN'), ('size', 'NN'), ('is', 'VBZ'), ('22', 'CD'), ('and', 'CC'), ('the', 'DT'), ('student-to-faculty', 'NN'), ('ratio', 'NN'), ('is', 'VBZ'), ('12:1', 'CD'), ('Gonzaga', 'NNP'), ('also', 'RB'), ('offers', 'VBZ'), ('study', 'NN'), ('abroad', 'RB'), ('programs', 'NNS'), ('in', 'IN'), ('over', 'IN'), ('60', 'CD'), ('countries', 'NNS'), ('including', 'VBG'), ('our', 'PRP$'), ('longest-running', 'JJ'), ('program', 'NN'), ('Gonzaga-in-Florence', 'NNP'), ('Italy', 'NNP')]\n"
     ]
    }
   ],
   "source": [
    "# parts of speech tagging\n",
    "print(blob.tags)"
   ]
  },
  {
   "cell_type": "code",
   "execution_count": 4,
   "metadata": {},
   "outputs": [
    {
     "name": "stdout",
     "output_type": "stream",
     "text": [
      "['academic heart', 'gonzaga', 'liberal arts tradition', 'core curriculum', 'integrates philosophy', 'common thread', 'gonzaga', 'gonzaga', 'undergraduate majors', 'master ’ s degrees', 'ph.d.', 'studies', 'practice degree', 'juris', 'explore', 'academic opportunities', 'course catalog', 'additionally', 'academic programs', 'average undergraduate class size', 'student-to-faculty ratio', 'gonzaga', 'gonzaga-in-florence', 'italy']\n"
     ]
    }
   ],
   "source": [
    "# noun phrases\n",
    "print(blob.noun_phrases)"
   ]
  },
  {
   "cell_type": "code",
   "execution_count": 5,
   "metadata": {},
   "outputs": [
    {
     "name": "stdout",
     "output_type": "stream",
     "text": [
      "\n",
      "The academic heart of Gonzaga's liberal arts tradition lies in its University Core Curriculum, which integrates philosophy, theology, mathematics, literature, writing and speaking.\n",
      "Sentiment(polarity=0.0, subjectivity=0.0)\n",
      "\n",
      "A common thread throughout all of these disciplines is the value of the written word; students at Gonzaga carry out extensive writing projects throughout all their courses of study.\n",
      "Sentiment(polarity=-0.15, subjectivity=0.41666666666666663)\n",
      "\n",
      "Gonzaga offers 75 undergraduate majors and programs, 26 master’s degrees, a Ph.D. in Leadership Studies, a Doctor of Nursing Practice degree, and a Juris Doctor through the School of Law.\n",
      "Sentiment(polarity=0.1, subjectivity=0.0)\n",
      "\n",
      "Explore these academic opportunities through the course catalog.\n",
      "Sentiment(polarity=0.0, subjectivity=0.0)\n",
      "\n",
      "Additionally, undergraduates may participate in several distinctive academic programs.\n",
      "Sentiment(polarity=0.0, subjectivity=0.0)\n",
      "\n",
      "The average undergraduate class size is 22 and the student-to-faculty ratio is 12:1.\n",
      "Sentiment(polarity=-0.15, subjectivity=0.39999999999999997)\n",
      "\n",
      "Gonzaga also offers study abroad programs in over 60 countries, including our longest-running program, Gonzaga-in-Florence, Italy.\n",
      "Sentiment(polarity=0.1, subjectivity=0.0)\n",
      "\n"
     ]
    }
   ],
   "source": [
    "# sentiment analysis\n",
    "for sentence in blob.sentences:\n",
    "    print(sentence)\n",
    "    print(sentence.sentiment)\n",
    "    print()\n",
    "# polarity is -1.0 (negative) to 1.0 (postive)\n",
    "# subjectivity is 0.0 (objective) to 1.0 (subjective)"
   ]
  },
  {
   "cell_type": "code",
   "execution_count": 6,
   "metadata": {},
   "outputs": [
    {
     "name": "stdout",
     "output_type": "stream",
     "text": [
      "en\n"
     ]
    }
   ],
   "source": [
    "# language detection\n",
    "# uses Google Translate on the backend\n",
    "print(blob.detect_language())"
   ]
  },
  {
   "cell_type": "code",
   "execution_count": 7,
   "metadata": {},
   "outputs": [
    {
     "name": "stdout",
     "output_type": "stream",
     "text": [
      "El corazón académico de la tradición de las artes liberales de Gonzaga se encuentra en su plan de estudios universitario, que integra filosofía, teología, matemáticas, literatura, escritura y expresión oral. Un hilo común en todas estas disciplinas es el valor de la palabra escrita; los estudiantes de Gonzaga llevan a cabo extensos proyectos de escritura a lo largo de todos sus cursos de estudio.\n",
      "\n",
      "Gonzaga ofrece 75 especializaciones y programas de pregrado, 26 maestrías, un doctorado. en Estudios de Liderazgo, un título de Doctor en Práctica de Enfermería y un Juris Doctor a través de la Facultad de Derecho. Explore estas oportunidades académicas a través del catálogo de cursos. Además, los estudiantes universitarios pueden participar en varios programas académicos distintivos. El tamaño promedio de las clases de pregrado es de 22 y la proporción de estudiantes por docente es de 12: 1. Gonzaga también ofrece programas de estudios en el extranjero en más de 60 países, incluido nuestro programa de mayor duración, Gonzaga-in-Florence, Italia.\n"
     ]
    }
   ],
   "source": [
    "# language translation\n",
    "print(blob.translate(to=\"es\"))"
   ]
  },
  {
   "cell_type": "code",
   "execution_count": 8,
   "metadata": {},
   "outputs": [
    {
     "name": "stdout",
     "output_type": "stream",
     "text": [
      "word: octopus singular: octopu plural: octopodes\n",
      "word: goose singular: goose plural: geese\n",
      "word: deer singular: deer plural: deer\n"
     ]
    }
   ],
   "source": [
    "# inflection\n",
    "# inflections are different forms of the same word (e.g. singular vs. plural)\n",
    "# person vs. people\n",
    "from textblob import Word\n",
    "\n",
    "words = [\"octopus\", \"goose\", \"deer\"]\n",
    "for word in words:\n",
    "    word = Word(word)\n",
    "    print(\"word:\", word, \"singular:\", word.singularize(), \"plural:\", word.pluralize())"
   ]
  },
  {
   "cell_type": "code",
   "execution_count": 10,
   "metadata": {},
   "outputs": [
    {
     "name": "stdout",
     "output_type": "stream",
     "text": [
      "[('they', 0.5713042216741622), ('their', 0.42869577832583783)]\n",
      "they\n"
     ]
    }
   ],
   "source": [
    "# spell checking\n",
    "word = Word(\"theyr\")\n",
    "print(word.spellcheck())\n",
    "print(word.correct())"
   ]
  },
  {
   "cell_type": "code",
   "execution_count": 12,
   "metadata": {},
   "outputs": [
    {
     "name": "stdout",
     "output_type": "stream",
     "text": [
      "programm\n",
      "program\n"
     ]
    }
   ],
   "source": [
    "# normalization\n",
    "# preparing words for analysis\n",
    "# example: \"program\": \"programs\", \"programmer\", \"programming\", \"programmatically\", etc. \n",
    "\n",
    "# stemming: removes a prefix and/or a suffix from a word to get its stem\n",
    "word = Word(\"programmer\")\n",
    "print(word.stem())\n",
    "word = Word(\"programming\")\n",
    "print(word.stem())"
   ]
  },
  {
   "cell_type": "code",
   "execution_count": 14,
   "metadata": {},
   "outputs": [
    {
     "name": "stdout",
     "output_type": "stream",
     "text": [
      "programmer\n",
      "programming\n",
      "varieti\n",
      "variety\n"
     ]
    }
   ],
   "source": [
    "# lemmatization: is like stemming, but uses the part of speech and meaning to \n",
    "# provide a real word\n",
    "word = Word(\"programmer\")\n",
    "print(word.lemmatize())\n",
    "word = Word(\"programming\")\n",
    "print(word.lemmatize())\n",
    "\n",
    "word = Word(\"varieties\")\n",
    "print(word.stem())\n",
    "print(word.lemmatize())"
   ]
  },
  {
   "cell_type": "code",
   "execution_count": 16,
   "metadata": {},
   "outputs": [
    {
     "name": "stdout",
     "output_type": "stream",
     "text": [
      "3\n",
      "2\n",
      "0\n"
     ]
    }
   ],
   "source": [
    "# word frequencies\n",
    "print(blob.word_counts[\"academic\"])\n",
    "print(blob.word_counts[\"writing\"])\n",
    "print(blob.word_counts[\"science\"])"
   ]
  },
  {
   "cell_type": "code",
   "execution_count": 17,
   "metadata": {},
   "outputs": [
    {
     "name": "stdout",
     "output_type": "stream",
     "text": [
      "['dish baked in pastry-lined pan often with a pastry top', 'a prehistoric unrecorded language that was the ancestor of all Indo-European languages']\n"
     ]
    }
   ],
   "source": [
    "# definitions\n",
    "# uses WordNet db\n",
    "word = Word(\"pie\")\n",
    "print(word.definitions)"
   ]
  },
  {
   "cell_type": "code",
   "execution_count": 18,
   "metadata": {},
   "outputs": [
    {
     "name": "stdout",
     "output_type": "stream",
     "text": [
      "[Synset('pie.n.01'), Synset('proto-indo_european.n.01')]\n"
     ]
    }
   ],
   "source": [
    "# synonyms\n",
    "print(word.synsets)"
   ]
  },
  {
   "cell_type": "code",
   "execution_count": 19,
   "metadata": {},
   "outputs": [
    {
     "name": "stdout",
     "output_type": "stream",
     "text": [
      "[WordList(['The', 'academic', 'heart']), WordList(['academic', 'heart', 'of']), WordList(['heart', 'of', 'Gonzaga']), WordList(['of', 'Gonzaga', \"'s\"]), WordList(['Gonzaga', \"'s\", 'liberal']), WordList([\"'s\", 'liberal', 'arts']), WordList(['liberal', 'arts', 'tradition']), WordList(['arts', 'tradition', 'lies']), WordList(['tradition', 'lies', 'in']), WordList(['lies', 'in', 'its']), WordList(['in', 'its', 'University']), WordList(['its', 'University', 'Core']), WordList(['University', 'Core', 'Curriculum']), WordList(['Core', 'Curriculum', 'which']), WordList(['Curriculum', 'which', 'integrates']), WordList(['which', 'integrates', 'philosophy']), WordList(['integrates', 'philosophy', 'theology']), WordList(['philosophy', 'theology', 'mathematics']), WordList(['theology', 'mathematics', 'literature']), WordList(['mathematics', 'literature', 'writing']), WordList(['literature', 'writing', 'and']), WordList(['writing', 'and', 'speaking']), WordList(['and', 'speaking', 'A']), WordList(['speaking', 'A', 'common']), WordList(['A', 'common', 'thread']), WordList(['common', 'thread', 'throughout']), WordList(['thread', 'throughout', 'all']), WordList(['throughout', 'all', 'of']), WordList(['all', 'of', 'these']), WordList(['of', 'these', 'disciplines']), WordList(['these', 'disciplines', 'is']), WordList(['disciplines', 'is', 'the']), WordList(['is', 'the', 'value']), WordList(['the', 'value', 'of']), WordList(['value', 'of', 'the']), WordList(['of', 'the', 'written']), WordList(['the', 'written', 'word']), WordList(['written', 'word', 'students']), WordList(['word', 'students', 'at']), WordList(['students', 'at', 'Gonzaga']), WordList(['at', 'Gonzaga', 'carry']), WordList(['Gonzaga', 'carry', 'out']), WordList(['carry', 'out', 'extensive']), WordList(['out', 'extensive', 'writing']), WordList(['extensive', 'writing', 'projects']), WordList(['writing', 'projects', 'throughout']), WordList(['projects', 'throughout', 'all']), WordList(['throughout', 'all', 'their']), WordList(['all', 'their', 'courses']), WordList(['their', 'courses', 'of']), WordList(['courses', 'of', 'study']), WordList(['of', 'study', 'Gonzaga']), WordList(['study', 'Gonzaga', 'offers']), WordList(['Gonzaga', 'offers', '75']), WordList(['offers', '75', 'undergraduate']), WordList(['75', 'undergraduate', 'majors']), WordList(['undergraduate', 'majors', 'and']), WordList(['majors', 'and', 'programs']), WordList(['and', 'programs', '26']), WordList(['programs', '26', 'master']), WordList(['26', 'master', '’']), WordList(['master', '’', 's']), WordList(['’', 's', 'degrees']), WordList(['s', 'degrees', 'a']), WordList(['degrees', 'a', 'Ph.D']), WordList(['a', 'Ph.D', 'in']), WordList(['Ph.D', 'in', 'Leadership']), WordList(['in', 'Leadership', 'Studies']), WordList(['Leadership', 'Studies', 'a']), WordList(['Studies', 'a', 'Doctor']), WordList(['a', 'Doctor', 'of']), WordList(['Doctor', 'of', 'Nursing']), WordList(['of', 'Nursing', 'Practice']), WordList(['Nursing', 'Practice', 'degree']), WordList(['Practice', 'degree', 'and']), WordList(['degree', 'and', 'a']), WordList(['and', 'a', 'Juris']), WordList(['a', 'Juris', 'Doctor']), WordList(['Juris', 'Doctor', 'through']), WordList(['Doctor', 'through', 'the']), WordList(['through', 'the', 'School']), WordList(['the', 'School', 'of']), WordList(['School', 'of', 'Law']), WordList(['of', 'Law', 'Explore']), WordList(['Law', 'Explore', 'these']), WordList(['Explore', 'these', 'academic']), WordList(['these', 'academic', 'opportunities']), WordList(['academic', 'opportunities', 'through']), WordList(['opportunities', 'through', 'the']), WordList(['through', 'the', 'course']), WordList(['the', 'course', 'catalog']), WordList(['course', 'catalog', 'Additionally']), WordList(['catalog', 'Additionally', 'undergraduates']), WordList(['Additionally', 'undergraduates', 'may']), WordList(['undergraduates', 'may', 'participate']), WordList(['may', 'participate', 'in']), WordList(['participate', 'in', 'several']), WordList(['in', 'several', 'distinctive']), WordList(['several', 'distinctive', 'academic']), WordList(['distinctive', 'academic', 'programs']), WordList(['academic', 'programs', 'The']), WordList(['programs', 'The', 'average']), WordList(['The', 'average', 'undergraduate']), WordList(['average', 'undergraduate', 'class']), WordList(['undergraduate', 'class', 'size']), WordList(['class', 'size', 'is']), WordList(['size', 'is', '22']), WordList(['is', '22', 'and']), WordList(['22', 'and', 'the']), WordList(['and', 'the', 'student-to-faculty']), WordList(['the', 'student-to-faculty', 'ratio']), WordList(['student-to-faculty', 'ratio', 'is']), WordList(['ratio', 'is', '12:1']), WordList(['is', '12:1', 'Gonzaga']), WordList(['12:1', 'Gonzaga', 'also']), WordList(['Gonzaga', 'also', 'offers']), WordList(['also', 'offers', 'study']), WordList(['offers', 'study', 'abroad']), WordList(['study', 'abroad', 'programs']), WordList(['abroad', 'programs', 'in']), WordList(['programs', 'in', 'over']), WordList(['in', 'over', '60']), WordList(['over', '60', 'countries']), WordList(['60', 'countries', 'including']), WordList(['countries', 'including', 'our']), WordList(['including', 'our', 'longest-running']), WordList(['our', 'longest-running', 'program']), WordList(['longest-running', 'program', 'Gonzaga-in-Florence']), WordList(['program', 'Gonzaga-in-Florence', 'Italy'])]\n"
     ]
    }
   ],
   "source": [
    "# n-grams\n",
    "# an n-gram is a sequence of n text items (e.g. n letters in a word or n words\n",
    "# in a sentence)\n",
    "# typically uses to see what words (or letters) are written/types/spoken together\n",
    "# (in sequence)\n",
    "# examples: IDE like VS code code completion\n",
    "# predictive text (e.g. messaging app, google search)\n",
    "\n",
    "print(blob.ngrams()) # default n is 3"
   ]
  },
  {
   "cell_type": "code",
   "execution_count": null,
   "metadata": {},
   "outputs": [],
   "source": []
  }
 ],
 "metadata": {
  "kernelspec": {
   "display_name": "Python 3",
   "language": "python",
   "name": "python3"
  },
  "language_info": {
   "codemirror_mode": {
    "name": "ipython",
    "version": 3
   },
   "file_extension": ".py",
   "mimetype": "text/x-python",
   "name": "python",
   "nbconvert_exporter": "python",
   "pygments_lexer": "ipython3",
   "version": "3.7.4"
  }
 },
 "nbformat": 4,
 "nbformat_minor": 4
}
