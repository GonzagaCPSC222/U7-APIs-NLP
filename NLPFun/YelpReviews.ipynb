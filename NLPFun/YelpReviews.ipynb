{
 "cells": [
  {
   "cell_type": "code",
   "execution_count": 1,
   "metadata": {},
   "outputs": [
    {
     "name": "stdout",
     "output_type": "stream",
     "text": [
      "carusos id: HQhn26DSyxbqN8DYaEoPhw\n",
      "chipotle id: PZyCuU1teH_C_na9DqUCNg\n"
     ]
    }
   ],
   "source": [
    "import requests\n",
    "import json\n",
    "\n",
    "api_key = \"YOUR API KEY HERE\"\n",
    "headers = {\"Authorization\": \"Bearer \" + api_key}\n",
    "    \n",
    "def get_place_id(search_term):\n",
    "    # documentation at https://www.yelp.com/developers/documentation/v3/business_search\n",
    "    url = \"https://api.yelp.com/v3/businesses/search\"\n",
    "    url += \"?term=\" + search_term\n",
    "    url += \"&latitude=47.6670357\"\n",
    "    url += \"&longitude=-117.403623\"\n",
    "    \n",
    "    response = requests.get(url=url, headers=headers)\n",
    "    json_object = json.loads(response.text)\n",
    "\n",
    "    place_id = json_object[\"businesses\"][0][\"id\"]\n",
    "    print(search_term, \"id:\", place_id)\n",
    "    \n",
    "    return place_id\n",
    "    \n",
    "def get_reviews(search_term):\n",
    "    # documentation at https://www.yelp.com/developers/documentation/v3/business_reviews\n",
    "    # returns three reviews in yelp \"default order\"\n",
    "    place_id = get_place_id(search_term)\n",
    "    url = \"https://api.yelp.com/v3/businesses/\" + place_id + \"/reviews\"\n",
    "    response = requests.get(url=url, headers=headers)\n",
    "    json_object = json.loads(response.text)\n",
    "    reviews_array = json_object[\"reviews\"]\n",
    "    reviews_text = []\n",
    "    for review_object in reviews_array:\n",
    "        reviews_text.append(review_object[\"text\"])\n",
    "    return reviews_text\n",
    "\n",
    "reviews_dict = {\"carusos\": get_reviews(\"carusos\"), \"chipotle\": get_reviews(\"chipotle\")}"
   ]
  },
  {
   "cell_type": "code",
   "execution_count": 2,
   "metadata": {},
   "outputs": [
    {
     "name": "stdout",
     "output_type": "stream",
     "text": [
      "*** carusos reviews ***\n",
      "\t Ordered the Cajun pizza and Caruso's pie.  Definitely good pizza that tis several steps above the typical delivery spots.  Yum!\n",
      "\t Ignore how the pics look the food is beautiful. I only ever get takeout and the care that goes into the food and how it's wrapped is nothing short of...\n",
      "\t Great food and great customer service! I've never been inside the restaurant but I've had their sandwiches before, and they are delicious! I went in today...\n",
      "\n",
      "*** chipotle reviews ***\n",
      "\t Placed an order for Pickup and was prepared to be disappointed by skimpy ingredients since you aren't there staring at them. When I opened my meal I was...\n",
      "\t I like getting Chipotle every once in awhile. However throughout the past few years I feel like they've started being really skimpy on their meats vs...\n",
      "\t Kind of a big bummer really.  I had a salad and whatever kind of green they used had the longest,  \n",
      "hardest to eat stems.  At one point, I had the leaf of...\n",
      "\n"
     ]
    }
   ],
   "source": [
    "for name, reviews in reviews_dict.items():\n",
    "    print(\"***\",name, \"reviews\", \"***\")\n",
    "    for review in reviews:\n",
    "        print(\"\\t\", review)\n",
    "    print()"
   ]
  }
 ],
 "metadata": {
  "kernelspec": {
   "display_name": "Python 3",
   "language": "python",
   "name": "python3"
  },
  "language_info": {
   "codemirror_mode": {
    "name": "ipython",
    "version": 3
   },
   "file_extension": ".py",
   "mimetype": "text/x-python",
   "name": "python",
   "nbconvert_exporter": "python",
   "pygments_lexer": "ipython3",
   "version": "3.7.4"
  }
 },
 "nbformat": 4,
 "nbformat_minor": 4
}
